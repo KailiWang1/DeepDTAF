{
 "cells": [
  {
   "cell_type": "code",
   "execution_count": 1,
   "metadata": {
    "ExecuteTime": {
     "end_time": "2020-08-02T15:04:39.454075Z",
     "start_time": "2020-08-02T15:04:39.446858Z"
    }
   },
   "outputs": [
    {
     "name": "stdout",
     "output_type": "stream",
     "text": [
      "the result save in predict33927.csv\n"
     ]
    }
   ],
   "source": [
    "flag = 'predict'  #  'phy' 's2'  'pkt' or other\n",
    "\n",
    "seed = 33927\n",
    "\n",
    "# the path of result\n",
    "model_path = f'../runs/DeepDTAF_20200818104105_{seed}'  \n",
    "\n",
    "print(f'the result save in {flag}{seed}.csv')"
   ]
  },
  {
   "cell_type": "code",
   "execution_count": 2,
   "metadata": {
    "ExecuteTime": {
     "end_time": "2020-08-02T15:04:53.934985Z",
     "start_time": "2020-08-02T15:04:53.186309Z"
    }
   },
   "outputs": [],
   "source": [
    "import sys\n",
    "import time\n",
    "from datetime import datetime\n",
    "from pathlib import Path\n",
    "from glob import glob \n",
    "\n",
    "import numpy as np\n",
    "import pandas as pd\n",
    "import torch\n",
    "from torch import nn, optim\n",
    "from torch.utils.data import DataLoader\n",
    "from torch.utils.tensorboard import SummaryWriter\n",
    "from tqdm import tqdm_notebook as tqdm"
   ]
  },
  {
   "cell_type": "code",
   "execution_count": 3,
   "metadata": {
    "ExecuteTime": {
     "end_time": "2020-08-02T15:05:09.382159Z",
     "start_time": "2020-08-02T15:05:09.365683Z"
    }
   },
   "outputs": [],
   "source": [
    "def output(model: nn.Module, test_loader, device, show=True):\n",
    "    model.eval()\n",
    "    test_loss = 0\n",
    "    outputs = []\n",
    "    targets = []\n",
    "    seqs = []\n",
    "    with torch.no_grad():\n",
    "        for idx, (*x, y) in tqdm(test_loader):\n",
    "            for i in range(len(x)):\n",
    "                x[i] = x[i].to(device)\n",
    "            y = y.to(device)\n",
    "\n",
    "            y_hat = model(*x)\n",
    "\n",
    "            test_loss += loss_function(y_hat.view(-1), y.view(-1)).item()\n",
    "            outputs.append(y_hat.cpu().numpy().reshape(-1))\n",
    "            targets.append(y.cpu().numpy().reshape(-1))\n",
    "            seqs.append(idx)\n",
    "            \n",
    "    targets = np.concatenate(targets).reshape(-1)\n",
    "    outputs = np.concatenate(outputs).reshape(-1)\n",
    "    seqs = np.concatenate(seqs).reshape(-1)\n",
    "\n",
    "    return seqs,targets,outputs"
   ]
  },
  {
   "cell_type": "code",
   "execution_count": 4,
   "metadata": {
    "ExecuteTime": {
     "end_time": "2020-08-02T15:05:21.441658Z",
     "start_time": "2020-08-02T15:05:21.012229Z"
    }
   },
   "outputs": [],
   "source": [
    "from dataset import MyDataset\n",
    "from model import DeepDTAF\n"
   ]
  },
  {
   "cell_type": "code",
   "execution_count": 5,
   "metadata": {
    "ExecuteTime": {
     "end_time": "2020-08-02T15:05:35.095520Z",
     "start_time": "2020-08-02T15:05:35.086596Z"
    }
   },
   "outputs": [],
   "source": [
    "class DatasetV11:\n",
    "    def __init__(self,*a,**b):\n",
    "        self.dataset = MyDataset(*a,**b)\n",
    "        \n",
    "    def __getitem__(self, index):\n",
    "        return self.dataset.seq_path[index].name.split('.')[0], self.dataset[index]\n",
    "    \n",
    "    def __len__(self):\n",
    "        return len(self.dataset)"
   ]
  },
  {
   "cell_type": "code",
   "execution_count": 6,
   "metadata": {
    "ExecuteTime": {
     "end_time": "2020-08-02T15:05:46.917370Z",
     "start_time": "2020-08-02T15:05:46.913007Z"
    }
   },
   "outputs": [],
   "source": [
    "max_seq_len = 1000\n",
    "\n",
    "max_pkt_len = 63\n",
    "\n",
    "max_smi_len = 150"
   ]
  },
  {
   "cell_type": "code",
   "execution_count": 7,
   "metadata": {
    "ExecuteTime": {
     "end_time": "2020-08-02T15:06:04.849096Z",
     "start_time": "2020-08-02T15:06:04.841885Z"
    }
   },
   "outputs": [],
   "source": [
    "# seed = 42\n",
    "# device = torch.device(\"cpu\")\n",
    "device = torch.device(\"cuda:0\")\n",
    "i = glob(model_path)\n",
    "assert len(i)==1\n",
    "path = Path(i[0])\n",
    "SHOW_PROCESS_BAR = False\n",
    "data_path = '../data/'"
   ]
  },
  {
   "cell_type": "code",
   "execution_count": 8,
   "metadata": {
    "ExecuteTime": {
     "end_time": "2020-08-02T15:06:16.790758Z",
     "start_time": "2020-08-02T15:06:16.784684Z"
    }
   },
   "outputs": [],
   "source": [
    "# torch.backends.cudnn.deterministic = True\n",
    "# torch.backends.cudnn.benchmark = False\n",
    "\n",
    "torch.manual_seed(seed)\n",
    "np.random.seed(seed)"
   ]
  },
  {
   "cell_type": "code",
   "execution_count": 9,
   "metadata": {
    "ExecuteTime": {
     "end_time": "2020-08-02T15:06:31.290436Z",
     "start_time": "2020-08-02T15:06:31.233850Z"
    }
   },
   "outputs": [],
   "source": [
    "batch_size = 16\n",
    "n_epoch = 20\n",
    "interrupt = None\n",
    "save_best_epoch = 13 \n",
    "# ↑↑↑↑↑↑↑↑↑↑↑↑↑↑\n",
    "assert 0<save_best_epoch<n_epoch\n",
    "\n",
    "loss_function = nn.MSELoss()\n",
    "\n",
    "model = DeepDTAF()"
   ]
  },
  {
   "cell_type": "code",
   "execution_count": 10,
   "metadata": {
    "ExecuteTime": {
     "end_time": "2020-08-02T15:06:47.256350Z",
     "start_time": "2020-08-02T15:06:43.334111Z"
    }
   },
   "outputs": [],
   "source": [
    "model.load_state_dict(torch.load(path / 'best_model.pt',map_location=device))\n",
    "model.to(device);"
   ]
  },
  {
   "cell_type": "code",
   "execution_count": 11,
   "metadata": {
    "ExecuteTime": {
     "end_time": "2020-08-02T15:07:01.545387Z",
     "start_time": "2020-08-02T15:06:58.004391Z"
    }
   },
   "outputs": [
    {
     "name": "stdout",
     "output_type": "stream",
     "text": [
      "Dataset training: will not fold pkt\n",
      "Dataset validation: will not fold pkt\n",
      "Dataset test: will not fold pkt\n"
     ]
    }
   ],
   "source": [
    "data_loaders = {phase_name:\n",
    "                    DataLoader(DatasetV11(data_path, phase_name,\n",
    "                                         max_seq_len, max_pkt_len, max_smi_len, pkt_window=None, pkt_stride=None),\n",
    "                               batch_size=batch_size,\n",
    "                               pin_memory=True,\n",
    "                               num_workers=8,\n",
    "                               shuffle=True)\n",
    "                for phase_name in ['training', 'validation', 'test']}"
   ]
  },
  {
   "cell_type": "code",
   "execution_count": 12,
   "metadata": {
    "ExecuteTime": {
     "end_time": "2020-08-02T15:07:32.036999Z",
     "start_time": "2020-08-02T15:07:15.228572Z"
    },
    "scrolled": true
   },
   "outputs": [
    {
     "name": "stdout",
     "output_type": "stream",
     "text": [
      "predict33927_training.csv\n"
     ]
    },
    {
     "data": {
      "application/vnd.jupyter.widget-view+json": {
       "model_id": "74833ecd9a79454fb0101de8cbbefcd7",
       "version_major": 2,
       "version_minor": 0
      },
      "text/plain": [
       "HBox(children=(IntProgress(value=0, max=745), HTML(value='')))"
      ]
     },
     "metadata": {},
     "output_type": "display_data"
    },
    {
     "name": "stdout",
     "output_type": "stream",
     "text": [
      "\n",
      "predict33927_validation.csv\n"
     ]
    },
    {
     "data": {
      "application/vnd.jupyter.widget-view+json": {
       "model_id": "1e798134d6f9465fa3988a2d85999498",
       "version_major": 2,
       "version_minor": 0
      },
      "text/plain": [
       "HBox(children=(IntProgress(value=0, max=63), HTML(value='')))"
      ]
     },
     "metadata": {},
     "output_type": "display_data"
    },
    {
     "name": "stdout",
     "output_type": "stream",
     "text": [
      "\n",
      "predict33927_test.csv\n"
     ]
    },
    {
     "data": {
      "application/vnd.jupyter.widget-view+json": {
       "model_id": "596e7f03d7c94294ace69745a5790ce2",
       "version_major": 2,
       "version_minor": 0
      },
      "text/plain": [
       "HBox(children=(IntProgress(value=0, max=12), HTML(value='')))"
      ]
     },
     "metadata": {},
     "output_type": "display_data"
    },
    {
     "name": "stdout",
     "output_type": "stream",
     "text": [
      "\n"
     ]
    }
   ],
   "source": [
    "for p in ['training', 'validation', 'test']:\n",
    "    print(f'{flag}{seed}_{p}.csv')\n",
    "    t,o,n = output(model,data_loaders[p],device)\n",
    "    a = pd.DataFrame()\n",
    "    a=a.assign(pdbid=t,predicted=n,real=o,set=p)\n",
    "    a.to_csv(f'{flag}{seed}_{p}.csv')"
   ]
  },
  {
   "cell_type": "code",
   "execution_count": null,
   "metadata": {},
   "outputs": [],
   "source": []
  }
 ],
 "metadata": {
  "kernelspec": {
   "display_name": "Python 3",
   "language": "python",
   "name": "python3"
  },
  "language_info": {
   "codemirror_mode": {
    "name": "ipython",
    "version": 3
   },
   "file_extension": ".py",
   "mimetype": "text/x-python",
   "name": "python",
   "nbconvert_exporter": "python",
   "pygments_lexer": "ipython3",
   "version": "3.6.5"
  },
  "toc": {
   "base_numbering": 1,
   "nav_menu": {},
   "number_sections": true,
   "sideBar": true,
   "skip_h1_title": true,
   "title_cell": "Table of Contents",
   "title_sidebar": "Contents",
   "toc_cell": false,
   "toc_position": {},
   "toc_section_display": true,
   "toc_window_display": false
  }
 },
 "nbformat": 4,
 "nbformat_minor": 2
}
